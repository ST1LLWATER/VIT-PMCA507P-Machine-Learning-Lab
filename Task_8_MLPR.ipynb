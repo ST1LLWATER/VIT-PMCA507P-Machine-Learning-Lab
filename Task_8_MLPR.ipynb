{
  "nbformat": 4,
  "nbformat_minor": 0,
  "metadata": {
    "colab": {
      "provenance": []
    },
    "kernelspec": {
      "name": "python3",
      "display_name": "Python 3"
    },
    "language_info": {
      "name": "python"
    }
  },
  "cells": [
    {
      "cell_type": "code",
      "execution_count": null,
      "metadata": {
        "id": "I4z501o7znxH"
      },
      "outputs": [],
      "source": [
        "import numpy as np\n",
        "import pandas as pd\n",
        "from sklearn.model_selection import train_test_split\n",
        "from sklearn.preprocessing import StandardScaler\n",
        "from sklearn.neural_network import MLPRegressor\n",
        "from sklearn.metrics import mean_squared_error"
      ]
    },
    {
      "cell_type": "code",
      "source": [
        "# Load the dataset from CSV\n",
        "dataset = pd.read_csv('adds.csv')\n",
        "\n",
        "# Assuming the target column is named 'target_column'\n",
        "X = dataset[['TV','radio']]\n",
        "y = dataset['sales']\n",
        "\n",
        "# Splitting the dataset into training and testing sets\n",
        "X_train, X_test, y_train, y_test = train_test_split(X, y, test_size=0.2, random_state=42)"
      ],
      "metadata": {
        "id": "TBgthkRu6ILF"
      },
      "execution_count": null,
      "outputs": []
    },
    {
      "cell_type": "code",
      "source": [
        "# Initialize the Multi-layer Perceptron regressor\n",
        "mlp_regressor = MLPRegressor(hidden_layer_sizes=(100, 50), activation='relu', solver='adam', max_iter=1000, random_state=42)\n",
        "\n",
        "# Train the model\n",
        "mlp_regressor.fit(X_train, y_train)"
      ],
      "metadata": {
        "id": "MW9RSsz36LBf"
      },
      "execution_count": null,
      "outputs": []
    },
    {
      "cell_type": "code",
      "source": [
        "# Predictions\n",
        "y_pred_train = mlp_regressor.predict(X_train)\n",
        "y_pred_test = mlp_regressor.predict(X_test)\n",
        "\n",
        "# Evaluate the model\n",
        "train_mse = mean_squared_error(y_train, y_pred_train)\n",
        "test_mse = mean_squared_error(y_test, y_pred_test)\n",
        "\n",
        "print(f\"Mean Squared Error on Training Set: {train_mse:.2f}\")\n",
        "print(f\"Mean Squared Error on Test Set: {test_mse:.2f}\")"
      ],
      "metadata": {
        "id": "IVuETMBO6rZq"
      },
      "execution_count": null,
      "outputs": []
    }
  ]
}