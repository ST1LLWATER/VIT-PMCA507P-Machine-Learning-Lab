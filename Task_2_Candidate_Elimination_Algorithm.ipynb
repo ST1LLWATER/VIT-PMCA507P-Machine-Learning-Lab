{
  "cells": [
    {
      "cell_type": "markdown",
      "metadata": {},
      "source": [
        "Name: Alok Punj Sharma <br/>\n",
        "Roll No: 23MCA0234"
      ]
    },
    {
      "cell_type": "markdown",
      "metadata": {},
      "source": [
        "## Task 1"
      ]
    },
    {
      "cell_type": "code",
      "execution_count": 15,
      "metadata": {
        "id": "0ZwzVWOK2mII"
      },
      "outputs": [],
      "source": [
        "def candidate_elimination(examples):\n",
        "    specific_h = examples[0][:-1]\n",
        "    general_h = [['?' for _ in range(len(specific_h))] for _ in range(len(specific_h))]\n",
        "\n",
        "    for example in examples:\n",
        "        if example[-1] == 'Yes':\n",
        "            for i in range(len(specific_h)):\n",
        "                if example[i] != specific_h[i]:\n",
        "                    specific_h[i] = '?'\n",
        "                    general_h[i][i] = '?'\n",
        "        else:\n",
        "            for i in range(len(specific_h)):\n",
        "                if example[i] != specific_h[i]:\n",
        "                    general_h[i][i] = specific_h[i]\n",
        "                else:\n",
        "                    general_h[i][i] = '?'\n",
        "\n",
        "    return specific_h, general_h"
      ]
    },
    {
      "cell_type": "code",
      "execution_count": 17,
      "metadata": {
        "id": "PL-9XWeG3W4b"
      },
      "outputs": [],
      "source": [
        "# Example dataset\n",
        "dataset = [\n",
        "    ['Sunny', 'Warm', 'Normal', 'Strong', 'Warm', 'Same', 'Y'],\n",
        "    ['Sunny', 'Warm', 'High', 'Strong', 'Warm', 'Same', 'Y'],\n",
        "    ['Rainy', 'Cold', 'High', 'Strong', 'Warm', 'Change', 'N'],\n",
        "    ['Sunny', 'Warm', 'High', 'Strong', 'Cool', 'Change', 'Y']\n",
        "]\n",
        "\n",
        "dataset2 = [\n",
        "    ['Overcast', 'Hot', 'High', False, 'Yes'],\n",
        "    ['Rainy', 'Mild', 'High', False, 'Yes'],\n",
        "    ['Rainy', 'Cool', 'Normal', False, 'Yes'],\n",
        "    ['Rainy', 'Cool', 'Normal', True, 'No'],\n",
        "    ['Overcast', 'Cool', 'Normal', True, 'Yes'],\n",
        "    ['Sunny', 'Mild', 'High', False, 'No'],\n",
        "    ['Sunny', 'Cool', 'Normal', False, 'Yes'],\n",
        "    ['Rainy', 'Mild', 'Normal', False, 'Yes'],\n",
        "    ['Sunny', 'Mild', 'Normal', True, 'Yes'],\n",
        "    ['Rainy', 'Mild', 'High', True, 'No']\n",
        "]\n",
        "print(candidate_elimination(dataset))"
      ]
    },
    {
      "cell_type": "code",
      "execution_count": 21,
      "metadata": {
        "colab": {
          "base_uri": "https://localhost:8080/"
        },
        "id": "S17od-Pe3ZtW",
        "outputId": "4518187b-a91a-4ff9-f17c-1f5d2d989f67"
      },
      "outputs": [
        {
          "name": "stdout",
          "output_type": "stream",
          "text": [
            "Specific Hypothesis: ['?', '?', '?', '?']\n",
            "General Hypothesis:\n",
            "['?', '?', '?', '?']\n",
            "['?', '?', '?', '?']\n",
            "['?', '?', '?', '?']\n",
            "['?', '?', '?', '?']\n"
          ]
        }
      ],
      "source": [
        "#Result\n",
        "specific, general = candidate_elimination(dataset2)\n",
        "\n",
        "print(\"Specific Hypothesis:\", specific)\n",
        "print(\"General Hypothesis:\")\n",
        "for hypothesis in general:\n",
        "    print(hypothesis)"
      ]
    }
  ],
  "metadata": {
    "colab": {
      "provenance": []
    },
    "kernelspec": {
      "display_name": "Python 3",
      "name": "python3"
    },
    "language_info": {
      "codemirror_mode": {
        "name": "ipython",
        "version": 3
      },
      "file_extension": ".py",
      "mimetype": "text/x-python",
      "name": "python",
      "nbconvert_exporter": "python",
      "pygments_lexer": "ipython3",
      "version": "3.10.13"
    }
  },
  "nbformat": 4,
  "nbformat_minor": 0
}
